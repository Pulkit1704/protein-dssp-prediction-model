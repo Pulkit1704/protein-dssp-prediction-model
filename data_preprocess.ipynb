{
 "cells": [
  {
   "cell_type": "code",
   "execution_count": 1,
   "id": "06599956",
   "metadata": {},
   "outputs": [],
   "source": [
    "import pandas as pd \n",
    "import numpy as np \n",
    "import torch \n",
    "from torch.utils.data import TensorDataset\n",
    "\n",
    "from tokenizers import (\n",
    "    Tokenizer, \n",
    "    models,\n",
    "    normalizers,\n",
    "    pre_tokenizers,\n",
    "    trainers\n",
    ")"
   ]
  },
  {
   "cell_type": "code",
   "execution_count": 2,
   "id": "420d2f4a",
   "metadata": {},
   "outputs": [],
   "source": [
    "data = pd.read_csv(\"./data/data.csv\") "
   ]
  },
  {
   "cell_type": "code",
   "execution_count": 3,
   "id": "6ba4d117",
   "metadata": {},
   "outputs": [
    {
     "data": {
      "text/plain": [
       "Index(['chain_id', 'first_res', 'input', 'dssp8'], dtype='object')"
      ]
     },
     "execution_count": 3,
     "metadata": {},
     "output_type": "execute_result"
    }
   ],
   "source": [
    "data.columns"
   ]
  },
  {
   "cell_type": "code",
   "execution_count": 4,
   "id": "405995b5",
   "metadata": {},
   "outputs": [
    {
     "data": {
      "text/html": [
       "<div>\n",
       "<style scoped>\n",
       "    .dataframe tbody tr th:only-of-type {\n",
       "        vertical-align: middle;\n",
       "    }\n",
       "\n",
       "    .dataframe tbody tr th {\n",
       "        vertical-align: top;\n",
       "    }\n",
       "\n",
       "    .dataframe thead th {\n",
       "        text-align: right;\n",
       "    }\n",
       "</style>\n",
       "<table border=\"1\" class=\"dataframe\">\n",
       "  <thead>\n",
       "    <tr style=\"text-align: right;\">\n",
       "      <th></th>\n",
       "      <th>input</th>\n",
       "      <th>dssp8</th>\n",
       "    </tr>\n",
       "  </thead>\n",
       "  <tbody>\n",
       "    <tr>\n",
       "      <th>0</th>\n",
       "      <td>VMKANVTKKTLNEGLGLLERVIPSRSSNPLLTALKVETSEGGLTLS...</td>\n",
       "      <td>CEEEEEEHHHHHHHHHHHHHHSCSCCSSTTTTEEEEEECSSEEEEE...</td>\n",
       "    </tr>\n",
       "    <tr>\n",
       "      <th>1</th>\n",
       "      <td>PVRVGLSVDASALGHTIPPDYTGLSYEQAQMANPNYFSGANTQLAG...</td>\n",
       "      <td>CEEEEEEEEEEEEEEEEPTTCCEEEEEGGGGGCTTTSSTTCHHHHH...</td>\n",
       "    </tr>\n",
       "    <tr>\n",
       "      <th>2</th>\n",
       "      <td>AYVLDTNVAIHLRDGDPEVTTRVTALNGAILLSIISRVELEGGVYR...</td>\n",
       "      <td>CEEECHHHHHHHHTTCHHHHHHHHHCCSCEEEEHHHHHHHHHHHTS...</td>\n",
       "    </tr>\n",
       "    <tr>\n",
       "      <th>3</th>\n",
       "      <td>MEFSVKSGSPEKQRSACIVVGVFEPRRLSPIAEQLDKISDGYISAL...</td>\n",
       "      <td>CEEEEECCCGGGCCCSCEEEEEETTTEECHHHHHHHHHHTSHHHHH...</td>\n",
       "    </tr>\n",
       "    <tr>\n",
       "      <th>4</th>\n",
       "      <td>SKGFFVDTTRCTACRGCQVACKQWHGNPATPTENTGFHQNPPDFNF...</td>\n",
       "      <td>CEEEEEEGGGCCCCCHHHHHHHHHHTPPPCCCCCSSCSCCSSSCBT...</td>\n",
       "    </tr>\n",
       "    <tr>\n",
       "      <th>...</th>\n",
       "      <td>...</td>\n",
       "      <td>...</td>\n",
       "    </tr>\n",
       "    <tr>\n",
       "      <th>18726</th>\n",
       "      <td>LNQDATILRQAKLGLSDPAQSLSSWSDNNDVTPaKWLGVSaDATSN...</td>\n",
       "      <td>CHHHHHHHHHHHHTSBCTTCTTTTTTSCTTCCGGGSTTEEECTTSC...</td>\n",
       "    </tr>\n",
       "    <tr>\n",
       "      <th>18727</th>\n",
       "      <td>HMPVHIVDPREHVFVHAITSECVMLACEVDREDAPVRWYKDGQEVE...</td>\n",
       "      <td>CCCCCCCBCCSCEEEECCTTCCEEEEEECSCTTSCCEEEETTSCCC...</td>\n",
       "    </tr>\n",
       "    <tr>\n",
       "      <th>18728</th>\n",
       "      <td>MTTAERWQKIQAQAPDVIFDLAKRAAAAKGPKANLVIGAYRDEQGR...</td>\n",
       "      <td>CCHHHHHHTPPPPPPPHHHHHHHHHHHCCSSCEECCSCCCBCTTSC...</td>\n",
       "    </tr>\n",
       "    <tr>\n",
       "      <th>18729</th>\n",
       "      <td>GSHMLEVLTQKHKPAESQQQAAETEGSaNKKDQNEbKSPaKWHNDA...</td>\n",
       "      <td>CCCSCCCSCCSSCSCCSSCCCCCCHHHHHHSCTTTCCTTSCEETTS...</td>\n",
       "    </tr>\n",
       "    <tr>\n",
       "      <th>18730</th>\n",
       "      <td>MINKDTQLCMSLSGRPSNFGTTFHNYLYDKLGLNFIYKAFTTQDIE...</td>\n",
       "      <td>CCCTTPEEEEEECSSCCSHHHHHHHHHHHHTTCSEEEEEECCSCHH...</td>\n",
       "    </tr>\n",
       "  </tbody>\n",
       "</table>\n",
       "<p>18731 rows × 2 columns</p>\n",
       "</div>"
      ],
      "text/plain": [
       "                                                   input  \\\n",
       "0      VMKANVTKKTLNEGLGLLERVIPSRSSNPLLTALKVETSEGGLTLS...   \n",
       "1      PVRVGLSVDASALGHTIPPDYTGLSYEQAQMANPNYFSGANTQLAG...   \n",
       "2      AYVLDTNVAIHLRDGDPEVTTRVTALNGAILLSIISRVELEGGVYR...   \n",
       "3      MEFSVKSGSPEKQRSACIVVGVFEPRRLSPIAEQLDKISDGYISAL...   \n",
       "4      SKGFFVDTTRCTACRGCQVACKQWHGNPATPTENTGFHQNPPDFNF...   \n",
       "...                                                  ...   \n",
       "18726  LNQDATILRQAKLGLSDPAQSLSSWSDNNDVTPaKWLGVSaDATSN...   \n",
       "18727  HMPVHIVDPREHVFVHAITSECVMLACEVDREDAPVRWYKDGQEVE...   \n",
       "18728  MTTAERWQKIQAQAPDVIFDLAKRAAAAKGPKANLVIGAYRDEQGR...   \n",
       "18729  GSHMLEVLTQKHKPAESQQQAAETEGSaNKKDQNEbKSPaKWHNDA...   \n",
       "18730  MINKDTQLCMSLSGRPSNFGTTFHNYLYDKLGLNFIYKAFTTQDIE...   \n",
       "\n",
       "                                                   dssp8  \n",
       "0      CEEEEEEHHHHHHHHHHHHHHSCSCCSSTTTTEEEEEECSSEEEEE...  \n",
       "1      CEEEEEEEEEEEEEEEEPTTCCEEEEEGGGGGCTTTSSTTCHHHHH...  \n",
       "2      CEEECHHHHHHHHTTCHHHHHHHHHCCSCEEEEHHHHHHHHHHHTS...  \n",
       "3      CEEEEECCCGGGCCCSCEEEEEETTTEECHHHHHHHHHHTSHHHHH...  \n",
       "4      CEEEEEEGGGCCCCCHHHHHHHHHHTPPPCCCCCSSCSCCSSSCBT...  \n",
       "...                                                  ...  \n",
       "18726  CHHHHHHHHHHHHTSBCTTCTTTTTTSCTTCCGGGSTTEEECTTSC...  \n",
       "18727  CCCCCCCBCCSCEEEECCTTCCEEEEEECSCTTSCCEEEETTSCCC...  \n",
       "18728  CCHHHHHHTPPPPPPPHHHHHHHHHHHCCSSCEECCSCCCBCTTSC...  \n",
       "18729  CCCSCCCSCCSSCSCCSSCCCCCCHHHHHHSCTTTCCTTSCEETTS...  \n",
       "18730  CCCTTPEEEEEECSSCCSHHHHHHHHHHHHTTCSEEEEEECCSCHH...  \n",
       "\n",
       "[18731 rows x 2 columns]"
      ]
     },
     "execution_count": 4,
     "metadata": {},
     "output_type": "execute_result"
    }
   ],
   "source": [
    "data = data.loc[:, ['input', 'dssp8']] \n",
    "data"
   ]
  },
  {
   "cell_type": "code",
   "execution_count": 5,
   "id": "56f093bf",
   "metadata": {},
   "outputs": [],
   "source": [
    "input_tokenizer = Tokenizer(models.WordLevel(unk_token = '[UNK]')) \n",
    "\n",
    "input_tokenizer.pre_tokenizer = pre_tokenizers.Split(pattern='', behavior='isolated')\n",
    "input_tokenizer.normalizer  = normalizers.Lowercase()\n",
    "\n",
    "trainer = trainers.WordLevelTrainer(special_tokens = ['[UNK]'])\n",
    "\n",
    "sequences = list(data['input'])\n",
    "\n",
    "input_tokenizer.train_from_iterator(sequences, trainer) \n",
    "input_tokenizer.enable_truncation(1000)\n",
    "input_tokenizer.enable_padding() "
   ]
  },
  {
   "cell_type": "code",
   "execution_count": 6,
   "id": "502df517",
   "metadata": {},
   "outputs": [],
   "source": [
    "output_tokenizer = Tokenizer(models.WordLevel(unk_token = '[UNK]'))\n",
    "output_tokenizer.pre_tokenizer = pre_tokenizers.Split(pattern='', behavior = 'isolated')\n",
    "output_tokenizer.normalizer = normalizers.Lowercase()\n",
    "\n",
    "output_sequences = list(data['dssp8'])\n",
    "\n",
    "output_tokenizer.train_from_iterator(output_sequences, trainer) \n",
    "output_tokenizer.enable_truncation(1000)\n",
    "output_tokenizer.enable_padding()"
   ]
  },
  {
   "cell_type": "code",
   "execution_count": 7,
   "id": "c715f1ca",
   "metadata": {},
   "outputs": [],
   "source": [
    "input_tokenizer.save(\"./trained_tokenizers/input_tokenizer.json\") \n",
    "output_tokenizer.save(\"./trained_tokenizers/output-tokenizer.json\")"
   ]
  },
  {
   "cell_type": "code",
   "execution_count": 8,
   "id": "3bfd5407",
   "metadata": {},
   "outputs": [],
   "source": [
    "inputs = list(map(lambda x: x.ids, input_tokenizer.encode_batch(data[\"input\"])))\n",
    "\n",
    "targets = list(map(lambda x: x.ids, output_tokenizer.encode_batch(data['dssp8'])))"
   ]
  },
  {
   "cell_type": "code",
   "execution_count": 9,
   "id": "e4976ea8",
   "metadata": {},
   "outputs": [],
   "source": [
    "inputs = np.array(inputs) \n",
    "targets = np.array(targets)"
   ]
  },
  {
   "cell_type": "code",
   "execution_count": 10,
   "id": "b0fc1fc1",
   "metadata": {},
   "outputs": [],
   "source": [
    "processed_data = TensorDataset(torch.tensor(inputs), torch.tensor(targets))"
   ]
  },
  {
   "cell_type": "code",
   "execution_count": 11,
   "id": "9f0a8af0",
   "metadata": {},
   "outputs": [],
   "source": [
    "torch.save(processed_data, \"./data/processed_data.pt\")"
   ]
  },
  {
   "cell_type": "code",
   "execution_count": null,
   "id": "540aef04",
   "metadata": {},
   "outputs": [],
   "source": []
  }
 ],
 "metadata": {
  "kernelspec": {
   "display_name": "protein-pred",
   "language": "python",
   "name": "python3"
  },
  "language_info": {
   "codemirror_mode": {
    "name": "ipython",
    "version": 3
   },
   "file_extension": ".py",
   "mimetype": "text/x-python",
   "name": "python",
   "nbconvert_exporter": "python",
   "pygments_lexer": "ipython3",
   "version": "3.12.11"
  }
 },
 "nbformat": 4,
 "nbformat_minor": 5
}
